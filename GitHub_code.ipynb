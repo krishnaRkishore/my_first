{
 "cells": [
  {
   "cell_type": "code",
   "execution_count": 22,
   "metadata": {},
   "outputs": [],
   "source": [
    "import smtplib\n",
    "from email.mime.multipart import MIMEMultipart\n",
    "from email.mime.text import MIMEText\n",
    "from email.mime.base import MIMEBase\n",
    "from email import encoders\n",
    "import schedule\n",
    "import time"
   ]
  },
  {
   "cell_type": "code",
   "execution_count": 20,
   "metadata": {},
   "outputs": [],
   "source": [
    "def mail():\n",
    "    frm = \"kishore.raghunathan@gmail.com\"\n",
    "    to = \"kishore.raghunathan@gmail.com\"\n",
    "    \n",
    "#     Creates parts of a message\n",
    "\n",
    "    message = MIMEMultipart()\n",
    "    message['From'] = frm\n",
    "    message['To'] = to \n",
    "    message['Subject'] = 'This is my subject'\n",
    "    \n",
    "#     attaching body to the mail\n",
    "\n",
    "    body = \"this is the body of the email\"\n",
    "    message.attach(MIMEText(body, 'plain'))\n",
    "    \n",
    "#     how to attach a file in a mail\n",
    "#     Choosea file and read its bits\n",
    "\n",
    "    file_name = \"2.jpg\"\n",
    "    atmt = open('2.jpg', 'rb')\n",
    "    \n",
    "#     Create a MIMEBase isntance as to be read in an app in octet-stream\n",
    "#   read the file using this istance\n",
    "\n",
    "    temp = MIMEBase('application', 'octet-stream')\n",
    "    temp.set_payload((atmt).read())\n",
    "    \n",
    "#   encode the read file using encoders \n",
    "\n",
    "    encoders.encode_base64(temp)\n",
    "    temp.add_header('Content-Disposition', 'attachment; filename = %s' %file_name)\n",
    "    \n",
    "# attaching this encoded file\n",
    "\n",
    "    message.attach(temp)\n",
    "    \n",
    "#     sending mail\n",
    "\n",
    "    server = smtplib.SMTP('smtp.gmail.com', 587)\n",
    "    server.ehlo()\n",
    "    server.starttls()\n",
    "    server.login(frm, \"gxnurzjmuanhqwjw\")\n",
    "    server.sendmail(frm, to, message.as_string())\n",
    "    server.quit()\n",
    "    "
   ]
  },
  {
   "cell_type": "code",
   "execution_count": 23,
   "metadata": {},
   "outputs": [],
   "source": [
    "mail()"
   ]
  },
  {
   "cell_type": "code",
   "execution_count": null,
   "metadata": {},
   "outputs": [],
   "source": []
  }
 ],
 "metadata": {
  "kernelspec": {
   "display_name": "Python 3",
   "language": "python",
   "name": "python3"
  },
  "language_info": {
   "codemirror_mode": {
    "name": "ipython",
    "version": 3
   },
   "file_extension": ".py",
   "mimetype": "text/x-python",
   "name": "python",
   "nbconvert_exporter": "python",
   "pygments_lexer": "ipython3",
   "version": "3.8.3"
  }
 },
 "nbformat": 4,
 "nbformat_minor": 4
}
