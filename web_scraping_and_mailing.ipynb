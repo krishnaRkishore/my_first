{
 "metadata": {
  "orig_nbformat": 2,
  "kernelspec": {
   "name": "python3",
   "display_name": "Python 3"
  }
 },
 "nbformat": 4,
 "nbformat_minor": 2,
 "cells": [
  {
   "cell_type": "code",
   "execution_count": 23,
   "metadata": {},
   "outputs": [],
   "source": [
    "import smtplib\n",
    "from email.mime.multipart import MIMEMultipart\n",
    "from email.mime.text import MIMEText\n",
    "from email.mime.base import MIMEBase\n",
    "from email import encoders\n",
    "from pexels_api import API\n",
    "import requests\n",
    "from io import BytesIO"
   ]
  },
  {
   "cell_type": "code",
   "execution_count": 25,
   "metadata": {},
   "outputs": [],
   "source": [
    "api = API(\"Your_API_key\")"
   ]
  },
  {
   "cell_type": "code",
   "execution_count": 27,
   "metadata": {
    "tags": []
   },
   "outputs": [
    {
     "output_type": "stream",
     "name": "stdout",
     "text": "https://images.pexels.com/photos/1586298/pexels-photo-1586298.jpeg\n<class 'str'>\n"
    }
   ],
   "source": [
    "search_about = input(\"enter what you want to search images of: \")\n",
    "api.search(search_about, 15, 1)\n",
    "photos = api.get_entries()\n",
    "for photo in photos:\n",
    "    print(photo.original)\n",
    "    a = photo.original\n",
    "    print(type(photo.original))"
   ]
  },
  {
   "cell_type": "code",
   "execution_count": 29,
   "metadata": {
    "tags": []
   },
   "outputs": [
    {
     "output_type": "stream",
     "name": "stdout",
     "text": "<class 'str'>\nhttps://images.pexels.com/photos/1586298/pexels-photo-1586298.jpeg\n"
    }
   ],
   "source": [
    "print(type(photo.original))\n",
    "print(a)\n",
    "file_like = BytesIO(requests.get(photo.original).content)"
   ]
  },
  {
   "cell_type": "code",
   "execution_count": 31,
   "metadata": {},
   "outputs": [],
   "source": [
    "frm = \"sender_gmail_ID\"\n",
    "to = \"recepient_gmail_ID\"\n",
    "message = MIMEMultipart() \n",
    "message[\"from\"] = frm\n",
    "message['to'] = to\n",
    "message['subject'] = \"this is the subject\""
   ]
  },
  {
   "cell_type": "code",
   "execution_count": 33,
   "metadata": {},
   "outputs": [],
   "source": [
    "body = \"this is the body for direct mailing from scraping\"\n",
    "message.attach(MIMEText(body, 'plain'))"
   ]
  },
  {
   "cell_type": "code",
   "execution_count": 51,
   "metadata": {},
   "outputs": [
    {
     "output_type": "execute_result",
     "data": {
      "text/plain": "b'image.jpg'"
     },
     "metadata": {},
     "execution_count": 51
    }
   ],
   "source": [
    "file_name =b\"image.jpg\"\n",
    "attachment = file_like.read()\n",
    "file_name"
   ]
  },
  {
   "cell_type": "code",
   "execution_count": 37,
   "metadata": {},
   "outputs": [
    {
     "output_type": "execute_result",
     "data": {
      "text/plain": "bytes"
     },
     "metadata": {},
     "execution_count": 37
    }
   ],
   "source": [
    "temp = MIMEBase(\"application\", \"octet-stream\")\n",
    "temp.set_payload(attachment)\n",
    "type(attachment)"
   ]
  },
  {
   "cell_type": "code",
   "execution_count": 39,
   "metadata": {},
   "outputs": [],
   "source": [
    "encoders.encode_base64(temp)\n",
    "temp.add_header('Content Disposition', 'attachment; file_name = %s' %file_name)"
   ]
  },
  {
   "cell_type": "code",
   "execution_count": 41,
   "metadata": {},
   "outputs": [],
   "source": [
    "message.attach(temp)"
   ]
  },
  {
   "cell_type": "code",
   "execution_count": 43,
   "metadata": {},
   "outputs": [
    {
     "output_type": "execute_result",
     "data": {
      "text/plain": "(235, b'2.7.0 Accepted')"
     },
     "metadata": {},
     "execution_count": 43
    }
   ],
   "source": [
    "server = smtplib.SMTP(\"smtp.gmail.com\", 587)\n",
    "server.ehlo()\n",
    "server.starttls()\n",
    "server.login(frm, \"app_password\")"
   ]
  },
  {
   "cell_type": "code",
   "execution_count": 45,
   "metadata": {},
   "outputs": [
    {
     "output_type": "execute_result",
     "data": {
      "text/plain": "(221, b'2.0.0 closing connection y25sm5116017pfn.71 - gsmtp')"
     },
     "metadata": {},
     "execution_count": 45
    }
   ],
   "source": [
    "server.sendmail(frm, frm, message.as_bytes())\n",
    "server.quit()"
   ]
  },
  {
   "cell_type": "code",
   "execution_count": null,
   "metadata": {},
   "outputs": [],
   "source": []
  }
 ]
}